{
  "nbformat": 4,
  "nbformat_minor": 0,
  "metadata": {
    "colab": {
      "name": "[current] FGSM Satellite Imagery Classifier.ipynb",
      "provenance": [],
      "collapsed_sections": []
    },
    "kernelspec": {
      "name": "python3",
      "display_name": "Python 3"
    },
    "language_info": {
      "name": "python"
    },
    "widgets": {
      "application/vnd.jupyter.widget-state+json": {
        "c14ffe2fcc1440c7848a6bf7b86452b8": {
          "model_module": "@jupyter-widgets/controls",
          "model_name": "HBoxModel",
          "model_module_version": "1.5.0",
          "state": {
            "_view_name": "HBoxView",
            "_dom_classes": [],
            "_model_name": "HBoxModel",
            "_view_module": "@jupyter-widgets/controls",
            "_model_module_version": "1.5.0",
            "_view_count": null,
            "_view_module_version": "1.5.0",
            "box_style": "",
            "layout": "IPY_MODEL_e57a552d840649218e4709d55e3dd60c",
            "_model_module": "@jupyter-widgets/controls",
            "children": [
              "IPY_MODEL_c1bc9f0f71c5406f971ea397c80e9fc1",
              "IPY_MODEL_3fcca2602d3247708e75a61d29b46ed7",
              "IPY_MODEL_07d0a12eece84ff8beb589b0da919fd6"
            ]
          }
        },
        "e57a552d840649218e4709d55e3dd60c": {
          "model_module": "@jupyter-widgets/base",
          "model_name": "LayoutModel",
          "model_module_version": "1.2.0",
          "state": {
            "_view_name": "LayoutView",
            "grid_template_rows": null,
            "right": null,
            "justify_content": null,
            "_view_module": "@jupyter-widgets/base",
            "overflow": null,
            "_model_module_version": "1.2.0",
            "_view_count": null,
            "flex_flow": null,
            "width": null,
            "min_width": null,
            "border": null,
            "align_items": null,
            "bottom": null,
            "_model_module": "@jupyter-widgets/base",
            "top": null,
            "grid_column": null,
            "overflow_y": null,
            "overflow_x": null,
            "grid_auto_flow": null,
            "grid_area": null,
            "grid_template_columns": null,
            "flex": null,
            "_model_name": "LayoutModel",
            "justify_items": null,
            "grid_row": null,
            "max_height": null,
            "align_content": null,
            "visibility": null,
            "align_self": null,
            "height": null,
            "min_height": null,
            "padding": null,
            "grid_auto_rows": null,
            "grid_gap": null,
            "max_width": null,
            "order": null,
            "_view_module_version": "1.2.0",
            "grid_template_areas": null,
            "object_position": null,
            "object_fit": null,
            "grid_auto_columns": null,
            "margin": null,
            "display": null,
            "left": null
          }
        },
        "c1bc9f0f71c5406f971ea397c80e9fc1": {
          "model_module": "@jupyter-widgets/controls",
          "model_name": "HTMLModel",
          "model_module_version": "1.5.0",
          "state": {
            "_view_name": "HTMLView",
            "style": "IPY_MODEL_96635fae96ba4cdf8978afb61949a347",
            "_dom_classes": [],
            "description": "",
            "_model_name": "HTMLModel",
            "placeholder": "​",
            "_view_module": "@jupyter-widgets/controls",
            "_model_module_version": "1.5.0",
            "value": "100%",
            "_view_count": null,
            "_view_module_version": "1.5.0",
            "description_tooltip": null,
            "_model_module": "@jupyter-widgets/controls",
            "layout": "IPY_MODEL_5432f39ce1a04be4aae8dfd22d843c50"
          }
        },
        "3fcca2602d3247708e75a61d29b46ed7": {
          "model_module": "@jupyter-widgets/controls",
          "model_name": "FloatProgressModel",
          "model_module_version": "1.5.0",
          "state": {
            "_view_name": "ProgressView",
            "style": "IPY_MODEL_ae1bd851ca0546c7afdde56d4e44ed9f",
            "_dom_classes": [],
            "description": "",
            "_model_name": "FloatProgressModel",
            "bar_style": "success",
            "max": 244408911,
            "_view_module": "@jupyter-widgets/controls",
            "_model_module_version": "1.5.0",
            "value": 244408911,
            "_view_count": null,
            "_view_module_version": "1.5.0",
            "orientation": "horizontal",
            "min": 0,
            "description_tooltip": null,
            "_model_module": "@jupyter-widgets/controls",
            "layout": "IPY_MODEL_a90f28bdda0c41dd951218adedd550c5"
          }
        },
        "07d0a12eece84ff8beb589b0da919fd6": {
          "model_module": "@jupyter-widgets/controls",
          "model_name": "HTMLModel",
          "model_module_version": "1.5.0",
          "state": {
            "_view_name": "HTMLView",
            "style": "IPY_MODEL_5d4fe2ecef3f4205b59f524ed0f65b23",
            "_dom_classes": [],
            "description": "",
            "_model_name": "HTMLModel",
            "placeholder": "​",
            "_view_module": "@jupyter-widgets/controls",
            "_model_module_version": "1.5.0",
            "value": " 233M/233M [00:03&lt;00:00, 91.0MB/s]",
            "_view_count": null,
            "_view_module_version": "1.5.0",
            "description_tooltip": null,
            "_model_module": "@jupyter-widgets/controls",
            "layout": "IPY_MODEL_12254cb782cc4723adae0cee7cc87d0e"
          }
        },
        "96635fae96ba4cdf8978afb61949a347": {
          "model_module": "@jupyter-widgets/controls",
          "model_name": "DescriptionStyleModel",
          "model_module_version": "1.5.0",
          "state": {
            "_view_name": "StyleView",
            "_model_name": "DescriptionStyleModel",
            "description_width": "",
            "_view_module": "@jupyter-widgets/base",
            "_model_module_version": "1.5.0",
            "_view_count": null,
            "_view_module_version": "1.2.0",
            "_model_module": "@jupyter-widgets/controls"
          }
        },
        "5432f39ce1a04be4aae8dfd22d843c50": {
          "model_module": "@jupyter-widgets/base",
          "model_name": "LayoutModel",
          "model_module_version": "1.2.0",
          "state": {
            "_view_name": "LayoutView",
            "grid_template_rows": null,
            "right": null,
            "justify_content": null,
            "_view_module": "@jupyter-widgets/base",
            "overflow": null,
            "_model_module_version": "1.2.0",
            "_view_count": null,
            "flex_flow": null,
            "width": null,
            "min_width": null,
            "border": null,
            "align_items": null,
            "bottom": null,
            "_model_module": "@jupyter-widgets/base",
            "top": null,
            "grid_column": null,
            "overflow_y": null,
            "overflow_x": null,
            "grid_auto_flow": null,
            "grid_area": null,
            "grid_template_columns": null,
            "flex": null,
            "_model_name": "LayoutModel",
            "justify_items": null,
            "grid_row": null,
            "max_height": null,
            "align_content": null,
            "visibility": null,
            "align_self": null,
            "height": null,
            "min_height": null,
            "padding": null,
            "grid_auto_rows": null,
            "grid_gap": null,
            "max_width": null,
            "order": null,
            "_view_module_version": "1.2.0",
            "grid_template_areas": null,
            "object_position": null,
            "object_fit": null,
            "grid_auto_columns": null,
            "margin": null,
            "display": null,
            "left": null
          }
        },
        "ae1bd851ca0546c7afdde56d4e44ed9f": {
          "model_module": "@jupyter-widgets/controls",
          "model_name": "ProgressStyleModel",
          "model_module_version": "1.5.0",
          "state": {
            "_view_name": "StyleView",
            "_model_name": "ProgressStyleModel",
            "description_width": "",
            "_view_module": "@jupyter-widgets/base",
            "_model_module_version": "1.5.0",
            "_view_count": null,
            "_view_module_version": "1.2.0",
            "bar_color": null,
            "_model_module": "@jupyter-widgets/controls"
          }
        },
        "a90f28bdda0c41dd951218adedd550c5": {
          "model_module": "@jupyter-widgets/base",
          "model_name": "LayoutModel",
          "model_module_version": "1.2.0",
          "state": {
            "_view_name": "LayoutView",
            "grid_template_rows": null,
            "right": null,
            "justify_content": null,
            "_view_module": "@jupyter-widgets/base",
            "overflow": null,
            "_model_module_version": "1.2.0",
            "_view_count": null,
            "flex_flow": null,
            "width": null,
            "min_width": null,
            "border": null,
            "align_items": null,
            "bottom": null,
            "_model_module": "@jupyter-widgets/base",
            "top": null,
            "grid_column": null,
            "overflow_y": null,
            "overflow_x": null,
            "grid_auto_flow": null,
            "grid_area": null,
            "grid_template_columns": null,
            "flex": null,
            "_model_name": "LayoutModel",
            "justify_items": null,
            "grid_row": null,
            "max_height": null,
            "align_content": null,
            "visibility": null,
            "align_self": null,
            "height": null,
            "min_height": null,
            "padding": null,
            "grid_auto_rows": null,
            "grid_gap": null,
            "max_width": null,
            "order": null,
            "_view_module_version": "1.2.0",
            "grid_template_areas": null,
            "object_position": null,
            "object_fit": null,
            "grid_auto_columns": null,
            "margin": null,
            "display": null,
            "left": null
          }
        },
        "5d4fe2ecef3f4205b59f524ed0f65b23": {
          "model_module": "@jupyter-widgets/controls",
          "model_name": "DescriptionStyleModel",
          "model_module_version": "1.5.0",
          "state": {
            "_view_name": "StyleView",
            "_model_name": "DescriptionStyleModel",
            "description_width": "",
            "_view_module": "@jupyter-widgets/base",
            "_model_module_version": "1.5.0",
            "_view_count": null,
            "_view_module_version": "1.2.0",
            "_model_module": "@jupyter-widgets/controls"
          }
        },
        "12254cb782cc4723adae0cee7cc87d0e": {
          "model_module": "@jupyter-widgets/base",
          "model_name": "LayoutModel",
          "model_module_version": "1.2.0",
          "state": {
            "_view_name": "LayoutView",
            "grid_template_rows": null,
            "right": null,
            "justify_content": null,
            "_view_module": "@jupyter-widgets/base",
            "overflow": null,
            "_model_module_version": "1.2.0",
            "_view_count": null,
            "flex_flow": null,
            "width": null,
            "min_width": null,
            "border": null,
            "align_items": null,
            "bottom": null,
            "_model_module": "@jupyter-widgets/base",
            "top": null,
            "grid_column": null,
            "overflow_y": null,
            "overflow_x": null,
            "grid_auto_flow": null,
            "grid_area": null,
            "grid_template_columns": null,
            "flex": null,
            "_model_name": "LayoutModel",
            "justify_items": null,
            "grid_row": null,
            "max_height": null,
            "align_content": null,
            "visibility": null,
            "align_self": null,
            "height": null,
            "min_height": null,
            "padding": null,
            "grid_auto_rows": null,
            "grid_gap": null,
            "max_width": null,
            "order": null,
            "_view_module_version": "1.2.0",
            "grid_template_areas": null,
            "object_position": null,
            "object_fit": null,
            "grid_auto_columns": null,
            "margin": null,
            "display": null,
            "left": null
          }
        }
      }
    }
  },
  "cells": [
    {
      "cell_type": "code",
      "metadata": {
        "colab": {
          "base_uri": "https://localhost:8080/"
        },
        "id": "GEjgcnPg8ntP",
        "outputId": "be11201e-08b1-4783-af01-91d8f82d5d13"
      },
      "source": [
        "from google.colab import drive\n",
        "#drive.mount('/content/gdrive')\n",
        "drive.mount(\"/content/gdrive\", force_remount=True)"
      ],
      "execution_count": null,
      "outputs": [
        {
          "output_type": "stream",
          "name": "stdout",
          "text": [
            "Mounted at /content/gdrive\n"
          ]
        }
      ]
    },
    {
      "cell_type": "code",
      "metadata": {
        "id": "BeDMZxDzTaAg"
      },
      "source": [
        "#####\n",
        "from google.colab import files\n",
        "from __future__ import print_function\n",
        "#####\n",
        "import torch as T\n",
        "import torch.nn as nn\n",
        "#######\n",
        "import torch.nn.functional as F\n",
        "######\n",
        "import torch.optim as optim\n",
        "from torch.optim import lr_scheduler\n",
        "import numpy as np\n",
        "import torchvision\n",
        "from torchvision.transforms import ToTensor\n",
        "import torchvision.transforms as transforms\n",
        "import torchvision.models as models\n",
        "import torchvision.datasets as datasets\n",
        "import matplotlib.pyplot as plt\n",
        "import time\n",
        "import os\n",
        "import argparse\n",
        "\n",
        "def set_parameter_requires_grad(model, extracting):\n",
        "  if extracting:\n",
        "    for param in model.parameters():\n",
        "      param.requires_grad = False"
      ],
      "execution_count": null,
      "outputs": []
    },
    {
      "cell_type": "markdown",
      "metadata": {
        "id": "LVR4xMiamWuL"
      },
      "source": [
        "Load in the data "
      ]
    },
    {
      "cell_type": "markdown",
      "source": [
        "**BEFORE EACH TEST- change data_dir to same dataset as either attacker model or victim model"
      ],
      "metadata": {
        "id": "yIHrELiY0nlf"
      }
    },
    {
      "cell_type": "code",
      "metadata": {
        "colab": {
          "base_uri": "https://localhost:8080/"
        },
        "id": "OfAF3-5i96m3",
        "outputId": "a0817f74-a53c-47ce-c291-057dbccf232f"
      },
      "source": [
        "\n",
        "data_dir = '/content/gdrive/MyDrive/CyberAI/US_UCMerced_China_images/CV2GBlur5'\n",
        "\n",
        "### added this just to trouble shoot the use_cuda part- probably for fgsm only\n",
        "use_cuda= True\n",
        "###\n",
        "\n",
        "image_transforms = {\n",
        "  'train': transforms.Compose([\n",
        "      transforms.RandomResizedCrop(224),\n",
        "      transforms.RandomHorizontalFlip(),\n",
        "      transforms.ToTensor(),\n",
        "      transforms.Normalize([0.485, 0.456, 0.406], [0.229, 0.224, 0.225])\n",
        "  ]),\n",
        "  'val': transforms.Compose([\n",
        "      transforms.Resize(224),\n",
        "      transforms.CenterCrop(224),\n",
        "      transforms.ToTensor(),\n",
        "      transforms.Normalize([0.485, 0.456, 0.406], [0.229, 0.224, 0.225])\n",
        "  ])}\n",
        "\n",
        "\n",
        "#opens imagefolder dataset and performing image/data transforms by iterating over train and validate folders\n",
        "data_generator = {x: datasets.ImageFolder(os.path.join(data_dir, x),\n",
        "                  image_transforms[x]) for x in ['train', 'val']}\n",
        "\n",
        "data_loader = {x: T.utils.data.DataLoader(data_generator[x], batch_size=2,\n",
        "                shuffle=True, num_workers=4) for x in ['train', 'val']}\n",
        "\n",
        "class_names = data_generator['train'].classes\n",
        "device = T.device(\"cuda:0\" if (use_cuda and T.cuda.is_available()) else \"cpu\")\n"
      ],
      "execution_count": null,
      "outputs": [
        {
          "output_type": "stream",
          "name": "stderr",
          "text": [
            "/usr/local/lib/python3.7/dist-packages/torch/utils/data/dataloader.py:481: UserWarning: This DataLoader will create 4 worker processes in total. Our suggested max number of worker in current system is 2, which is smaller than what this DataLoader is going to create. Please be aware that excessive worker creation might get DataLoader running slow or even freeze, lower the worker number to avoid potential slowness/freeze if necessary.\n",
            "  cpuset_checked))\n"
          ]
        }
      ]
    },
    {
      "cell_type": "markdown",
      "metadata": {
        "id": "8OsB9dp9eZdD"
      },
      "source": [
        "Choose a model"
      ]
    },
    {
      "cell_type": "markdown",
      "metadata": {
        "id": "Asqe7_7Q3gbv"
      },
      "source": [
        "Alexnet Model"
      ]
    },
    {
      "cell_type": "code",
      "metadata": {
        "id": "9rnnW2vKCK6U",
        "colab": {
          "base_uri": "https://localhost:8080/",
          "height": 535,
          "referenced_widgets": [
            "c14ffe2fcc1440c7848a6bf7b86452b8",
            "e57a552d840649218e4709d55e3dd60c",
            "c1bc9f0f71c5406f971ea397c80e9fc1",
            "3fcca2602d3247708e75a61d29b46ed7",
            "07d0a12eece84ff8beb589b0da919fd6",
            "96635fae96ba4cdf8978afb61949a347",
            "5432f39ce1a04be4aae8dfd22d843c50",
            "ae1bd851ca0546c7afdde56d4e44ed9f",
            "a90f28bdda0c41dd951218adedd550c5",
            "5d4fe2ecef3f4205b59f524ed0f65b23",
            "12254cb782cc4723adae0cee7cc87d0e"
          ]
        },
        "outputId": "bcedc4fe-2901-445e-f64b-8069025f3c4f"
      },
      "source": [
        "model = models.alexnet(pretrained=True)\n",
        "set_parameter_requires_grad(model, True)\n",
        "num_features= model.classifier[6].in_features\n",
        "model.classifier[6] = nn.Linear(num_features, 21)\n",
        "model.to(device)"
      ],
      "execution_count": null,
      "outputs": [
        {
          "output_type": "stream",
          "name": "stderr",
          "text": [
            "Downloading: \"https://download.pytorch.org/models/alexnet-owt-7be5be79.pth\" to /root/.cache/torch/hub/checkpoints/alexnet-owt-7be5be79.pth\n"
          ]
        },
        {
          "output_type": "display_data",
          "data": {
            "application/vnd.jupyter.widget-view+json": {
              "model_id": "c14ffe2fcc1440c7848a6bf7b86452b8",
              "version_minor": 0,
              "version_major": 2
            },
            "text/plain": [
              "  0%|          | 0.00/233M [00:00<?, ?B/s]"
            ]
          },
          "metadata": {}
        },
        {
          "output_type": "execute_result",
          "data": {
            "text/plain": [
              "AlexNet(\n",
              "  (features): Sequential(\n",
              "    (0): Conv2d(3, 64, kernel_size=(11, 11), stride=(4, 4), padding=(2, 2))\n",
              "    (1): ReLU(inplace=True)\n",
              "    (2): MaxPool2d(kernel_size=3, stride=2, padding=0, dilation=1, ceil_mode=False)\n",
              "    (3): Conv2d(64, 192, kernel_size=(5, 5), stride=(1, 1), padding=(2, 2))\n",
              "    (4): ReLU(inplace=True)\n",
              "    (5): MaxPool2d(kernel_size=3, stride=2, padding=0, dilation=1, ceil_mode=False)\n",
              "    (6): Conv2d(192, 384, kernel_size=(3, 3), stride=(1, 1), padding=(1, 1))\n",
              "    (7): ReLU(inplace=True)\n",
              "    (8): Conv2d(384, 256, kernel_size=(3, 3), stride=(1, 1), padding=(1, 1))\n",
              "    (9): ReLU(inplace=True)\n",
              "    (10): Conv2d(256, 256, kernel_size=(3, 3), stride=(1, 1), padding=(1, 1))\n",
              "    (11): ReLU(inplace=True)\n",
              "    (12): MaxPool2d(kernel_size=3, stride=2, padding=0, dilation=1, ceil_mode=False)\n",
              "  )\n",
              "  (avgpool): AdaptiveAvgPool2d(output_size=(6, 6))\n",
              "  (classifier): Sequential(\n",
              "    (0): Dropout(p=0.5, inplace=False)\n",
              "    (1): Linear(in_features=9216, out_features=4096, bias=True)\n",
              "    (2): ReLU(inplace=True)\n",
              "    (3): Dropout(p=0.5, inplace=False)\n",
              "    (4): Linear(in_features=4096, out_features=4096, bias=True)\n",
              "    (5): ReLU(inplace=True)\n",
              "    (6): Linear(in_features=4096, out_features=21, bias=True)\n",
              "  )\n",
              ")"
            ]
          },
          "metadata": {},
          "execution_count": 4
        }
      ]
    },
    {
      "cell_type": "markdown",
      "metadata": {
        "id": "F6f2r5DWJlAX"
      },
      "source": [
        "VGG11 Model"
      ]
    },
    {
      "cell_type": "code",
      "metadata": {
        "id": "VoXpcgCCJfZ5"
      },
      "source": [
        "model = models.vgg11_bn(pretrained=True)\n",
        "set_parameter_requires_grad(model, True)\n",
        "num_features= model.classifier[6].in_features\n",
        "model.classifier[6] = nn.Linear(num_features, 21)\n",
        "model.to(device)"
      ],
      "execution_count": null,
      "outputs": []
    },
    {
      "cell_type": "markdown",
      "metadata": {
        "id": "EtAOWwQ7O6oP"
      },
      "source": [
        "DenseNet model"
      ]
    },
    {
      "cell_type": "code",
      "metadata": {
        "id": "0TqfXfuzOr3G"
      },
      "source": [
        "model = models.densenet121(pretrained=True)\n",
        "set_parameter_requires_grad(model, True)\n",
        "num_features= model.classifier.in_features\n",
        "model.classifier = nn.Linear(num_features, 21)\n",
        "model.to(device)"
      ],
      "execution_count": null,
      "outputs": []
    },
    {
      "cell_type": "markdown",
      "metadata": {
        "id": "mEGj_sg8JqPP"
      },
      "source": [
        "Resnet18 Model (default from transfer learning tutorial)"
      ]
    },
    {
      "cell_type": "code",
      "metadata": {
        "id": "uAQsYNO1ILDn"
      },
      "source": [
        "model = models.resnet18(pretrained=True)\n",
        "set_parameter_requires_grad(model, True)\n",
        "num_features= model.fc.in_features\n",
        "model.fc = nn.Linear(num_features, 21)\n",
        "model.to(device)"
      ],
      "execution_count": null,
      "outputs": []
    },
    {
      "cell_type": "markdown",
      "metadata": {
        "id": "tLpRaxR9lXb9"
      },
      "source": [
        "Load the saved Attacker model (one doing the attack)"
      ]
    },
    {
      "cell_type": "code",
      "metadata": {
        "colab": {
          "base_uri": "https://localhost:8080/"
        },
        "id": "5_Md8rtVpCYE",
        "outputId": "c0889866-da5f-42be-db9a-93f5ac496b3a"
      },
      "source": [
        "model_save_name= 'checkpointAlexNetCV2GBlur5.pth'\n",
        "state_dict = T.load(F\"/content/gdrive/MyDrive/CyberAI/{model_save_name}\")\n",
        "print(state_dict.keys())\n",
        "model.load_state_dict(state_dict)"
      ],
      "execution_count": null,
      "outputs": [
        {
          "output_type": "stream",
          "name": "stdout",
          "text": [
            "odict_keys(['features.0.weight', 'features.0.bias', 'features.3.weight', 'features.3.bias', 'features.6.weight', 'features.6.bias', 'features.8.weight', 'features.8.bias', 'features.10.weight', 'features.10.bias', 'classifier.1.weight', 'classifier.1.bias', 'classifier.4.weight', 'classifier.4.bias', 'classifier.6.weight', 'classifier.6.bias'])\n"
          ]
        },
        {
          "output_type": "execute_result",
          "data": {
            "text/plain": [
              "<All keys matched successfully>"
            ]
          },
          "metadata": {},
          "execution_count": 120
        }
      ]
    },
    {
      "cell_type": "markdown",
      "metadata": {
        "id": "CfKhn7imedqo"
      },
      "source": [
        "Test the Final Accuracy of the Model "
      ]
    },
    {
      "cell_type": "markdown",
      "source": [
        "***** To find final accuracy of victim model change BOTH data_dir to dataset of VICTIM model and the \"model\" in \"outputs= model(images)\" to victim_model *****"
      ],
      "metadata": {
        "id": "1AZ3Snp0KpR4"
      }
    },
    {
      "cell_type": "code",
      "metadata": {
        "id": "5mJgmLeW9zYq",
        "colab": {
          "base_uri": "https://localhost:8080/"
        },
        "outputId": "300ddb49-fadc-474d-cb3f-7611e48010a4"
      },
      "source": [
        "with T.no_grad():\n",
        "    correct = 0\n",
        "    total = 0\n",
        "    for images, labels in data_loader['val']:\n",
        "        images = images.to(device)\n",
        "        labels = labels.to(device)\n",
        "        ###change model below to victim_model if you are testing accuracy of victim\n",
        "        outputs = model(images)\n",
        "        _, predicted = T.max(outputs.data, 1)\n",
        "        total += labels.size(0)\n",
        "        correct += (predicted == labels).sum().item()\n",
        "          \n",
        "    print('Test Accuracy of the model: {} %'.format(100 * correct / total))\n"
      ],
      "execution_count": null,
      "outputs": [
        {
          "output_type": "stream",
          "name": "stderr",
          "text": [
            "/usr/local/lib/python3.7/dist-packages/torch/utils/data/dataloader.py:481: UserWarning: This DataLoader will create 4 worker processes in total. Our suggested max number of worker in current system is 2, which is smaller than what this DataLoader is going to create. Please be aware that excessive worker creation might get DataLoader running slow or even freeze, lower the worker number to avoid potential slowness/freeze if necessary.\n",
            "  cpuset_checked))\n"
          ]
        },
        {
          "output_type": "stream",
          "name": "stdout",
          "text": [
            "Test Accuracy of the model: 68.84920634920636 %\n"
          ]
        }
      ]
    },
    {
      "cell_type": "markdown",
      "metadata": {
        "id": "gin5EMdBlcHY"
      },
      "source": [
        "See the model doing some predictions with randomly vizualized pictures from the dataset"
      ]
    },
    {
      "cell_type": "code",
      "metadata": {
        "id": "xtrxU_QolwUy"
      },
      "source": [
        "def imshow(inp, title=None):\n",
        "    \"\"\"Imshow for Tensor.\"\"\"\n",
        "    inp = inp.numpy().transpose((1, 2, 0))\n",
        "    mean = np.array([0.485, 0.456, 0.406])\n",
        "    std = np.array([0.229, 0.224, 0.225])\n",
        "    inp = std * inp + mean\n",
        "    inp = np.clip(inp, 0, 1)\n",
        "    plt.imshow(inp)\n",
        "    if title is not None:\n",
        "        plt.title(title)\n",
        "    plt.pause(0.001)  # pause a bit so that plots are updated\n",
        "    \n",
        "def visualize_model(model, num_images=6):\n",
        "    was_training = model.training\n",
        "    model.eval()\n",
        "    images_so_far = 0\n",
        "    fig = plt.figure()\n",
        "\n",
        "    with T.no_grad():\n",
        "        for i, (inputs, labels) in enumerate(data_loader['val']):\n",
        "            inputs = inputs.to(device)\n",
        "            labels = labels.to(device)\n",
        "\n",
        "            outputs = model(inputs)\n",
        "            _, preds = T.max(outputs, 1)\n",
        "\n",
        "            for j in range(inputs.size()[0]):\n",
        "                images_so_far += 1\n",
        "                ax = plt.subplot(num_images//2, 2, images_so_far)\n",
        "                ax.axis('off')\n",
        "                ax.set_title('predicted: {} \\nlabel: {}'.format(class_names[preds[j]], class_names[labels[j]]))\n",
        "                imshow(inputs.cpu().data[j])\n",
        "\n",
        "                if images_so_far == num_images:\n",
        "                    model.train(mode=was_training)\n",
        "                    return\n",
        "        model.train(mode=was_training)"
      ],
      "execution_count": null,
      "outputs": []
    },
    {
      "cell_type": "code",
      "metadata": {
        "id": "dKbsC5MCIPUs",
        "colab": {
          "base_uri": "https://localhost:8080/",
          "height": 726
        },
        "outputId": "72907ab1-94b3-47d2-f411-c4045b82d6da"
      },
      "source": [
        "visualize_model(model)"
      ],
      "execution_count": null,
      "outputs": [
        {
          "output_type": "stream",
          "name": "stderr",
          "text": [
            "/usr/local/lib/python3.7/dist-packages/torch/utils/data/dataloader.py:481: UserWarning: This DataLoader will create 4 worker processes in total. Our suggested max number of worker in current system is 2, which is smaller than what this DataLoader is going to create. Please be aware that excessive worker creation might get DataLoader running slow or even freeze, lower the worker number to avoid potential slowness/freeze if necessary.\n",
            "  cpuset_checked))\n"
          ]
        },
        {
          "output_type": "display_data",
          "data": {
            "image/png": "[encoded data removed]",
            "text/plain": [
              "<Figure size 432x288 with 1 Axes>"
            ]
          },
          "metadata": {
            "needs_background": "light"
          }
        },
        {
          "output_type": "display_data",
          "data": {
            "image/png": "[encoded data removed]",
            "text/plain": [
              "<Figure size 432x288 with 1 Axes>"
            ]
          },
          "metadata": {
            "needs_background": "light"
          }
        },
        {
          "output_type": "display_data",
          "data": {
            "image/png": "[encoded data removed]",
            "text/plain": [
              "<Figure size 432x288 with 1 Axes>"
            ]
          },
          "metadata": {
            "needs_background": "light"
          }
        },
        {
          "output_type": "display_data",
          "data": {
            "image/png": "[encoded data removed]",
            "text/plain": [
              "<Figure size 432x288 with 1 Axes>"
            ]
          },
          "metadata": {
            "needs_background": "light"
          }
        },
        {
          "output_type": "display_data",
          "data": {
            "image/png": "[encoded data removed]",
            "text/plain": [
              "<Figure size 432x288 with 1 Axes>"
            ]
          },
          "metadata": {
            "needs_background": "light"
          }
        },
        {
          "output_type": "display_data",
          "data": {
            "image/png": "[encoded data removed]",
            "text/plain": [
              "<Figure size 432x288 with 1 Axes>"
            ]
          },
          "metadata": {
            "needs_background": "light"
          }
        }
      ]
    },
    {
      "cell_type": "markdown",
      "metadata": {
        "id": "E0uoI_izuuRB"
      },
      "source": [
        "Load the model you're TESTING the FGSM attack ON"
      ]
    },
    {
      "cell_type": "code",
      "metadata": {
        "id": "O3GrZTbQvqk0",
        "colab": {
          "base_uri": "https://localhost:8080/"
        },
        "outputId": "6e0cf345-e29b-41aa-82f2-a9c6b7f17102"
      },
      "source": [
        "victim_model = models.alexnet(pretrained=True)\n",
        "set_parameter_requires_grad(victim_model, True)\n",
        "num_features= victim_model.classifier[6].in_features\n",
        "victim_model.classifier[6] = nn.Linear(num_features, 21)\n",
        "victim_model.to(device)"
      ],
      "execution_count": null,
      "outputs": [
        {
          "output_type": "execute_result",
          "data": {
            "text/plain": [
              "AlexNet(\n",
              "  (features): Sequential(\n",
              "    (0): Conv2d(3, 64, kernel_size=(11, 11), stride=(4, 4), padding=(2, 2))\n",
              "    (1): ReLU(inplace=True)\n",
              "    (2): MaxPool2d(kernel_size=3, stride=2, padding=0, dilation=1, ceil_mode=False)\n",
              "    (3): Conv2d(64, 192, kernel_size=(5, 5), stride=(1, 1), padding=(2, 2))\n",
              "    (4): ReLU(inplace=True)\n",
              "    (5): MaxPool2d(kernel_size=3, stride=2, padding=0, dilation=1, ceil_mode=False)\n",
              "    (6): Conv2d(192, 384, kernel_size=(3, 3), stride=(1, 1), padding=(1, 1))\n",
              "    (7): ReLU(inplace=True)\n",
              "    (8): Conv2d(384, 256, kernel_size=(3, 3), stride=(1, 1), padding=(1, 1))\n",
              "    (9): ReLU(inplace=True)\n",
              "    (10): Conv2d(256, 256, kernel_size=(3, 3), stride=(1, 1), padding=(1, 1))\n",
              "    (11): ReLU(inplace=True)\n",
              "    (12): MaxPool2d(kernel_size=3, stride=2, padding=0, dilation=1, ceil_mode=False)\n",
              "  )\n",
              "  (avgpool): AdaptiveAvgPool2d(output_size=(6, 6))\n",
              "  (classifier): Sequential(\n",
              "    (0): Dropout(p=0.5, inplace=False)\n",
              "    (1): Linear(in_features=9216, out_features=4096, bias=True)\n",
              "    (2): ReLU(inplace=True)\n",
              "    (3): Dropout(p=0.5, inplace=False)\n",
              "    (4): Linear(in_features=4096, out_features=4096, bias=True)\n",
              "    (5): ReLU(inplace=True)\n",
              "    (6): Linear(in_features=4096, out_features=21, bias=True)\n",
              "  )\n",
              ")"
            ]
          },
          "metadata": {},
          "execution_count": 7
        }
      ]
    },
    {
      "cell_type": "code",
      "metadata": {
        "id": "LGIM2JanQa3N"
      },
      "source": [
        "victim_model = models.resnet18(pretrained=True)\n",
        "set_parameter_requires_grad(victim_model, True)\n",
        "num_features= victim_model.fc.in_features\n",
        "victim_model.fc = nn.Linear(num_features, 21)\n",
        "victim_model.to(device)"
      ],
      "execution_count": null,
      "outputs": []
    },
    {
      "cell_type": "code",
      "metadata": {
        "id": "B10L5Wysu7SH",
        "colab": {
          "base_uri": "https://localhost:8080/"
        },
        "outputId": "57320065-ba0a-465e-e4e1-b13097aec243"
      },
      "source": [
        "model_save_nameB= 'checkpointAlexNetCV2GBlur5.pth'\n",
        "state_dict = T.load(F\"/content/gdrive/MyDrive/CyberAI/{model_save_nameB}\")\n",
        "print(state_dict.keys())\n",
        "victim_model.load_state_dict(state_dict)"
      ],
      "execution_count": null,
      "outputs": [
        {
          "output_type": "stream",
          "name": "stdout",
          "text": [
            "odict_keys(['features.0.weight', 'features.0.bias', 'features.3.weight', 'features.3.bias', 'features.6.weight', 'features.6.bias', 'features.8.weight', 'features.8.bias', 'features.10.weight', 'features.10.bias', 'classifier.1.weight', 'classifier.1.bias', 'classifier.4.weight', 'classifier.4.bias', 'classifier.6.weight', 'classifier.6.bias'])\n"
          ]
        },
        {
          "output_type": "execute_result",
          "data": {
            "text/plain": [
              "<All keys matched successfully>"
            ]
          },
          "metadata": {},
          "execution_count": 133
        }
      ]
    },
    {
      "cell_type": "markdown",
      "metadata": {
        "id": "CesMXIK_e9xf"
      },
      "source": [
        "Define variables for FGSM |*important to run after upddating data_dir"
      ]
    },
    {
      "cell_type": "code",
      "metadata": {
        "colab": {
          "base_uri": "https://localhost:8080/"
        },
        "id": "RFO_uiLdfAA_",
        "outputId": "4286bbe4-ec99-4716-c219-3af2bab1bffd"
      },
      "source": [
        "epsilons = [0, .05, .1, .15, .2, .25, .3]\n",
        "#epsilons= [0]\n",
        "use_cuda=True\n",
        "test_loader = {x: T.utils.data.DataLoader(data_generator[x], batch_size=1, \n",
        "                              shuffle=True, num_workers=4) for x in ['val']}"
      ],
      "execution_count": null,
      "outputs": [
        {
          "output_type": "stream",
          "name": "stderr",
          "text": [
            "/usr/local/lib/python3.7/dist-packages/torch/utils/data/dataloader.py:481: UserWarning: This DataLoader will create 4 worker processes in total. Our suggested max number of worker in current system is 2, which is smaller than what this DataLoader is going to create. Please be aware that excessive worker creation might get DataLoader running slow or even freeze, lower the worker number to avoid potential slowness/freeze if necessary.\n",
            "  cpuset_checked))\n"
          ]
        }
      ]
    },
    {
      "cell_type": "markdown",
      "source": [
        "New attempt 1/24"
      ],
      "metadata": {
        "id": "-xPd5XMCBkTF"
      }
    },
    {
      "cell_type": "code",
      "source": [
        "def fgsm_untargeted(image_tensor, label, eps):\n",
        "            image_tensor.requires_grad = True\n",
        "            criterion = T.nn.CrossEntropyLoss()\n",
        "            output = model.forward(image_tensor)\n",
        "            loss = criterion(output, label)\n",
        "            model.zero_grad()\n",
        "            loss.backward()\n",
        "            data_grad = image_tensor.grad.data.sign()\n",
        "            #image_tensor = image_tensor.detach()\n",
        "\n",
        "            perturbed_img= image_tensor + eps*data_grad\n",
        "\n",
        "            return perturbed_img"
      ],
      "metadata": {
        "id": "iXOwPP91vJZG"
      },
      "execution_count": null,
      "outputs": []
    },
    {
      "cell_type": "code",
      "source": [
        "def fgsm_test(model, device, test_loader, epsilon):\n",
        "  # Accuracy counter\n",
        "    count=0\n",
        "    correct = 0\n",
        "    incorrect_after=0\n",
        "    incorrect_init=0\n",
        "    adv_examples = []\n",
        "    fig= plt.figure()\n",
        "\n",
        "    # Loop over all examples in test set\n",
        "    for data, target in test_loader:\n",
        "        count+=1\n",
        "        '''\n",
        "        print(\"\\n count: \"+str(count))\n",
        "        '''\n",
        "        # Send the data and label to the device\n",
        "        data, target = data.to(device), target.to(device)\n",
        "\n",
        "\n",
        "\n",
        "        # Set requires_grad attribute of tensor. Important for Attack\n",
        "        data.requires_grad = True\n",
        "\n",
        "        # Forward pass the data through the model\n",
        "        \n",
        "        ###1/26 changed model to victim model\n",
        "        output = model(data)\n",
        "        init_pred = output.max(1, keepdim=True)[1] # get the index of the max log-probability\n",
        "        \n",
        "        '''[start comment block here to remove print and visualization statements]\n",
        "        # If the initial prediction is wrong, dont bother attacking, just move on\n",
        "        if init_pred.item() != target.item():\n",
        "            print(\"\\n INCORRECT initially \\n\")\n",
        "            incorrect_init+=1\n",
        "            print(\"\\n incorrect_init: \"+ str(incorrect_init))\n",
        "            print(\"prediction: \"+class_names[init_pred.item()])\n",
        "            print(\"actual: \"+class_names[target.item()])\n",
        "            ###visualize it to see what it really is\n",
        "            ax = plt.subplot(1,1,1) \n",
        "            ax.axis('off')\n",
        "            imshow(data.cpu().data[0]) #data is just a tensor containing ONE picture- so index 0 refers to the one and only picture\n",
        "            continue\n",
        "        [end comment block here to remove print and visualization statements]'''\n",
        "\n",
        "        perturbed_data = fgsm_untargeted(data, target, epsilon)\n",
        "\n",
        "\n",
        "        ###Attempt to apply a specific FGSM attack to victim model\n",
        "        output = victim_model(perturbed_data)\n",
        "        ###\n",
        "\n",
        "        # Re-classify the perturbed image\n",
        "        ###output = model(perturbed_data)\n",
        "\n",
        "        # Check for success\n",
        "\n",
        "        final_pred = output.max(1, keepdim=True)[1] # get the index of the max log-probability\n",
        "        if final_pred.item() == target.item():\n",
        "            correct += 1\n",
        "\n",
        "            '''[start comment block here to remove print and visualization statements]\n",
        "            print(\"\\n CORRECT after attack\\n\")\n",
        "            print(\"\\n correct: \"+ str(correct))\n",
        "            ###\n",
        "            print(\"prediction: \"+str(final_pred.item()))\n",
        "            print(\"actual: \"+str(target.item()))\n",
        "            ####\n",
        "            print(\"prediction before attack: \"+class_names[init_pred.item()])\n",
        "            print(\"prediction after attack: \"+class_names[final_pred.item()])\n",
        "            print(\"actual: \"+class_names[target.item()])\n",
        "            \n",
        "            ###visualize it to see what it really is\n",
        "            ax = plt.subplot(1,1,1) \n",
        "            ax.axis('off')\n",
        "            imshow(data.cpu().data[0])\n",
        "            [end comment block here to remove print and visualization statements]'''\n",
        "\n",
        "            # Special case for saving 0 epsilon examples\n",
        "            if (epsilon == 0) and (len(adv_examples) < 5):\n",
        "                adv_ex = perturbed_data.squeeze().detach().cpu().numpy()\n",
        "                adv_examples.append( (init_pred.item(), final_pred.item(), adv_ex) )\n",
        "        else:\n",
        "            # Save some adv examples for visualization later\n",
        "            '''[start comment block here to remove print and visualization statements]\n",
        "            print(\"\\n INCORRECT after attack \\n\")\n",
        "            incorrect_after+=1\n",
        "            print(\"\\n incorrect_after: \"+ str(incorrect_after))\n",
        "            ###\n",
        "            print(\"prediction: \"+str(final_pred.item()))\n",
        "            print(\"actual: \"+str(target.item()))\n",
        "            ####\n",
        "            print(\"prediction before attack: \"+class_names[init_pred.item()])\n",
        "            print(\"prediction after attack: \"+class_names[final_pred.item()])\n",
        "            print(\"actual: \"+class_names[target.item()])\n",
        "            \n",
        "            ###visualize it to see what it really is\n",
        "            ax = plt.subplot(1,1,1) \n",
        "            ax.axis('off')\n",
        "            imshow(data.cpu().data[0])\n",
        "            [end comment block here to remove print and visualization statements]'''\n",
        "            if len(adv_examples) < 5:\n",
        "                adv_ex = perturbed_data.squeeze().detach().cpu().numpy()\n",
        "                adv_examples.append( (init_pred.item(), final_pred.item(), adv_ex) )\n",
        "\n",
        "    # Calculate final accuracy for this epsilon\n",
        "    final_acc = correct/float(len(test_loader))\n",
        "    print(\"Epsilon: {}\\tTest Accuracy = {} / {} = {}\".format(epsilon, correct, len(test_loader), final_acc))\n",
        "    print()\n",
        "\n",
        "    # Return the accuracy and an adversarial example\n",
        "    return final_acc, adv_examples"
      ],
      "metadata": {
        "id": "q-2jHgZbAkic"
      },
      "execution_count": null,
      "outputs": []
    },
    {
      "cell_type": "markdown",
      "source": [
        "Before attack- check attacker model and victim model is right. *Data_dir should be same dataset as either  attacker model or victim model!*"
      ],
      "metadata": {
        "id": "l3QTALA_JFAb"
      }
    },
    {
      "cell_type": "code",
      "source": [
        "print(\"attacker model: \"+model_save_name+\" | victim model: \"+ model_save_nameB + \" | data_dir: \"+data_dir)"
      ],
      "metadata": {
        "colab": {
          "base_uri": "https://localhost:8080/"
        },
        "id": "a1VYCBa_JJ6q",
        "outputId": "67c0cfc7-357d-46d6-d63d-fbca9e279e4b"
      },
      "execution_count": null,
      "outputs": [
        {
          "output_type": "stream",
          "name": "stdout",
          "text": [
            "substitute model: checkpointAlexNetCV2GBlur5.pth | victim model: checkpointAlexNetCV2GBlur5.pth | data_dir: /content/gdrive/MyDrive/CyberAI/US_UCMerced_China_images/CV2GBlur5\n"
          ]
        }
      ]
    },
    {
      "cell_type": "markdown",
      "metadata": {
        "id": "LYb9BZ_4V3li"
      },
      "source": [
        "Run Attack"
      ]
    },
    {
      "cell_type": "markdown",
      "source": [
        "*CHANGE VARIABLE NAMES appropriately before running attack*"
      ],
      "metadata": {
        "id": "wSrsS9QGLVJ6"
      }
    },
    {
      "cell_type": "code",
      "metadata": {
        "id": "BwxZm4IZDBEq",
        "colab": {
          "base_uri": "https://localhost:8080/"
        },
        "outputId": "f52ad4f7-224a-4852-f6c9-0e28a2064f9b"
      },
      "source": [
        "accuracies = []\n",
        "examples = []\n",
        "\n",
        "print(\"attacker model: \"+model_save_name+\" | victim model: \"+ model_save_nameB+ \" | data_dir: \"+data_dir)\n",
        "print()\n",
        "\n",
        "# Run test for each epsilon and CHANGE variable names\n",
        "for eps in epsilons:\n",
        "    acc, ex = fgsm_test(model, device, test_loader['val'], eps)\n",
        "    accuracies.append(acc)\n",
        "    examples.append(ex)"
      ],
      "execution_count": null,
      "outputs": [
        {
          "output_type": "stream",
          "name": "stdout",
          "text": [
            "substitute model: checkpointAlexNetCV2GBlur5.pth | victim model: checkpointAlexNetCV2GBlur5.pth | data_dir: /content/gdrive/MyDrive/CyberAI/US_UCMerced_China_images/CV2GBlur5\n",
            "\n"
          ]
        },
        {
          "output_type": "stream",
          "name": "stderr",
          "text": [
            "/usr/local/lib/python3.7/dist-packages/torch/utils/data/dataloader.py:481: UserWarning: This DataLoader will create 4 worker processes in total. Our suggested max number of worker in current system is 2, which is smaller than what this DataLoader is going to create. Please be aware that excessive worker creation might get DataLoader running slow or even freeze, lower the worker number to avoid potential slowness/freeze if necessary.\n",
            "  cpuset_checked))\n"
          ]
        },
        {
          "output_type": "stream",
          "name": "stdout",
          "text": [
            "Epsilon: 0\tTest Accuracy = 367 / 504 = 0.7281746031746031\n",
            "\n",
            "Epsilon: 0.05\tTest Accuracy = 82 / 504 = 0.1626984126984127\n",
            "\n",
            "Epsilon: 0.1\tTest Accuracy = 77 / 504 = 0.1527777777777778\n",
            "\n",
            "Epsilon: 0.15\tTest Accuracy = 76 / 504 = 0.15079365079365079\n",
            "\n",
            "Epsilon: 0.2\tTest Accuracy = 58 / 504 = 0.11507936507936507\n",
            "\n",
            "Epsilon: 0.25\tTest Accuracy = 50 / 504 = 0.0992063492063492\n",
            "\n",
            "Epsilon: 0.3\tTest Accuracy = 46 / 504 = 0.09126984126984126\n",
            "\n"
          ]
        },
        {
          "output_type": "display_data",
          "data": {
            "text/plain": [
              "<Figure size 432x288 with 0 Axes>"
            ]
          },
          "metadata": {}
        },
        {
          "output_type": "display_data",
          "data": {
            "text/plain": [
              "<Figure size 432x288 with 0 Axes>"
            ]
          },
          "metadata": {}
        },
        {
          "output_type": "display_data",
          "data": {
            "text/plain": [
              "<Figure size 432x288 with 0 Axes>"
            ]
          },
          "metadata": {}
        },
        {
          "output_type": "display_data",
          "data": {
            "text/plain": [
              "<Figure size 432x288 with 0 Axes>"
            ]
          },
          "metadata": {}
        },
        {
          "output_type": "display_data",
          "data": {
            "text/plain": [
              "<Figure size 432x288 with 0 Axes>"
            ]
          },
          "metadata": {}
        },
        {
          "output_type": "display_data",
          "data": {
            "text/plain": [
              "<Figure size 432x288 with 0 Axes>"
            ]
          },
          "metadata": {}
        },
        {
          "output_type": "display_data",
          "data": {
            "text/plain": [
              "<Figure size 432x288 with 0 Axes>"
            ]
          },
          "metadata": {}
        }
      ]
    },
    {
      "cell_type": "markdown",
      "source": [
        "Graph the resulting accuracies from the attack | *Replace accuracies with appropriate variable names"
      ],
      "metadata": {
        "id": "Eqmf-AJ5O1JI"
      }
    },
    {
      "cell_type": "code",
      "metadata": {
        "id": "pMkx-0XFV6ud",
        "colab": {
          "base_uri": "https://localhost:8080/"
        },
        "outputId": "622f1285-7d3d-4943-fb02-b5a40dc25966"
      },
      "source": [
        "plt.figure(figsize=(5,5))\n",
        "#Change to appropriate accuracies variable!\n",
        "plt.plot(epsilons, accuracies, \"*-\")\n",
        "plt.yticks(np.arange(0, 1.1, step=0.1))\n",
        "plt.xticks(np.arange(0, .35, step=0.05))\n",
        "#Change to appropriate title!\n",
        "plt.title(\"Accuracy vs Epsilon for ....\")\n",
        "plt.xlabel(\"Epsilon\")\n",
        "plt.ylabel(\"Accuracy\")\n",
        "plt.show()"
      ],
      "execution_count": null,
      "outputs": [
        {
          "output_type": "display_data",
          "data": {
            "image/png": "[encoded data removed]",
            "text/plain": [
              "<Figure size 360x360 with 1 Axes>"
            ]
          },
          "metadata": {
            "needs_background": "light"
          }
        }
      ]
    }
  ]
}
